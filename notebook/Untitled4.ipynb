{
 "cells": [
  {
   "cell_type": "code",
   "execution_count": 16,
   "metadata": {},
   "outputs": [
    {
     "name": "stdout",
     "output_type": "stream",
     "text": [
      "3.54 ms ± 484 µs per loop (mean ± std. dev. of 7 runs, 100 loops each)\n",
      "5.18 ms ± 1.49 ms per loop (mean ± std. dev. of 7 runs, 100 loops each)\n",
      "5.24 ms ± 1.07 ms per loop (mean ± std. dev. of 7 runs, 100 loops each)\n"
     ]
    },
    {
     "data": {
      "image/png": "[encoded data removed]",
      "text/plain": [
       "<Figure size 432x288 with 1 Axes>"
      ]
     },
     "metadata": {},
     "output_type": "display_data"
    }
   ],
   "source": [
    "%matplotlib inline\n",
    "import numpy as np\n",
    "import matplotlib.pyplot as plt\n",
    "k=[]\n",
    "a=np.arange(0,100,0.01)\n",
    "b=a**(1/2)*10\n",
    "c=b-a\n",
    "a1=%timeit -o plt.plot(a,b)\n",
    "a2=%timeit -o plt.plot(a,a)\n",
    "a3=%timeit -o plt.plot(a,c)\n",
    "for i in np.array([a1,a2,a3]):\n",
    "    k.append(i)"
   ]
  },
  {
   "cell_type": "code",
   "execution_count": 17,
   "metadata": {},
   "outputs": [
    {
     "data": {
      "text/plain": [
       "IPython.core.magics.execution.TimeitResult"
      ]
     },
     "execution_count": 17,
     "metadata": {},
     "output_type": "execute_result"
    }
   ],
   "source": [
    "type(a1)"
   ]
  },
  {
   "cell_type": "code",
   "execution_count": 18,
   "metadata": {},
   "outputs": [
    {
     "data": {
      "text/plain": [
       "array([[1.        , 1.05946309, 1.12246205, 1.18920712],\n",
       "       [1.25992105, 1.33483985, 1.41421356, 1.49830708],\n",
       "       [1.58740105, 1.68179283, 1.78179744, 1.88774863]])"
      ]
     },
     "execution_count": 18,
     "metadata": {},
     "output_type": "execute_result"
    }
   ],
   "source": [
    "np.logspace(0,1,12,endpoint=False,base=2,dtype=np.float64).reshape([3,-1])"
   ]
  },
  {
   "cell_type": "code",
   "execution_count": 19,
   "metadata": {},
   "outputs": [
    {
     "name": "stdout",
     "output_type": "stream",
     "text": [
      "1.6 ms ± 472 µs per loop (mean ± std. dev. of 7 runs, 1000 loops each)\n",
      "4.55 ms ± 717 µs per loop (mean ± std. dev. of 7 runs, 100 loops each)\n",
      "6.65 ms ± 1.28 ms per loop (mean ± std. dev. of 7 runs, 100 loops each)\n",
      "11.5 ms ± 1.1 ms per loop (mean ± std. dev. of 7 runs, 100 loops each)\n",
      "14.4 ms ± 616 µs per loop (mean ± std. dev. of 7 runs, 100 loops each)\n",
      "16.9 ms ± 2.93 ms per loop (mean ± std. dev. of 7 runs, 100 loops each)\n",
      "23 ms ± 555 µs per loop (mean ± std. dev. of 7 runs, 10 loops each)\n",
      "24.2 ms ± 3.32 ms per loop (mean ± std. dev. of 7 runs, 10 loops each)\n",
      "27.5 ms ± 4.26 ms per loop (mean ± std. dev. of 7 runs, 10 loops each)\n",
      "33 ms ± 2.03 ms per loop (mean ± std. dev. of 7 runs, 10 loops each)\n",
      "38.2 ms ± 511 µs per loop (mean ± std. dev. of 7 runs, 10 loops each)\n",
      "40.2 ms ± 2.86 ms per loop (mean ± std. dev. of 7 runs, 10 loops each)\n",
      "33.6 ms ± 10.6 ms per loop (mean ± std. dev. of 7 runs, 10 loops each)\n",
      "28.5 ms ± 4.48 ms per loop (mean ± std. dev. of 7 runs, 10 loops each)\n",
      "25.4 ms ± 828 µs per loop (mean ± std. dev. of 7 runs, 10 loops each)\n",
      "31.1 ms ± 4.07 ms per loop (mean ± std. dev. of 7 runs, 10 loops each)\n",
      "32 ms ± 3.17 ms per loop (mean ± std. dev. of 7 runs, 10 loops each)\n",
      "41.2 ms ± 5.48 ms per loop (mean ± std. dev. of 7 runs, 10 loops each)\n",
      "63.6 ms ± 7.16 ms per loop (mean ± std. dev. of 7 runs, 10 loops each)\n",
      "75.2 ms ± 1.07 ms per loop (mean ± std. dev. of 7 runs, 10 loops each)\n"
     ]
    }
   ],
   "source": [
    "import random\n",
    "f=[]\n",
    "for n in np.arange(5000,100001,5000):\n",
    "    k=[random.random() for i in range(n)]\n",
    "    m=%timeit -o sorted(k)\n",
    "    f.append((n,m))"
   ]
  },
  {
   "cell_type": "code",
   "execution_count": 15,
   "metadata": {},
   "outputs": [
    {
     "data": {
      "text/plain": [
       "[(5000,\n",
       "  <TimeitResult : 1.62 ms ± 615 µs per loop (mean ± std. dev. of 7 runs, 1000 loops each)>),\n",
       " (10000,\n",
       "  <TimeitResult : 5.26 ms ± 379 µs per loop (mean ± std. dev. of 7 runs, 100 loops each)>),\n",
       " (15000,\n",
       "  <TimeitResult : 8.21 ms ± 411 µs per loop (mean ± std. dev. of 7 runs, 100 loops each)>),\n",
       " (20000,\n",
       "  <TimeitResult : 11.5 ms ± 232 µs per loop (mean ± std. dev. of 7 runs, 100 loops each)>),\n",
       " (25000,\n",
       "  <TimeitResult : 14.1 ms ± 562 µs per loop (mean ± std. dev. of 7 runs, 100 loops each)>),\n",
       " (30000,\n",
       "  <TimeitResult : 17.8 ms ± 567 µs per loop (mean ± std. dev. of 7 runs, 100 loops each)>),\n",
       " (35000,\n",
       "  <TimeitResult : 22 ms ± 1.31 ms per loop (mean ± std. dev. of 7 runs, 10 loops each)>),\n",
       " (40000,\n",
       "  <TimeitResult : 23.7 ms ± 1.66 ms per loop (mean ± std. dev. of 7 runs, 10 loops each)>),\n",
       " (45000,\n",
       "  <TimeitResult : 26.9 ms ± 3.88 ms per loop (mean ± std. dev. of 7 runs, 10 loops each)>),\n",
       " (50000,\n",
       "  <TimeitResult : 34.1 ms ± 6.17 ms per loop (mean ± std. dev. of 7 runs, 10 loops each)>),\n",
       " (55000,\n",
       "  <TimeitResult : 37.3 ms ± 4.02 ms per loop (mean ± std. dev. of 7 runs, 10 loops each)>),\n",
       " (60000,\n",
       "  <TimeitResult : 46.3 ms ± 1.48 ms per loop (mean ± std. dev. of 7 runs, 10 loops each)>),\n",
       " (65000,\n",
       "  <TimeitResult : 46.8 ms ± 3.45 ms per loop (mean ± std. dev. of 7 runs, 10 loops each)>),\n",
       " (70000,\n",
       "  <TimeitResult : 49 ms ± 1.25 ms per loop (mean ± std. dev. of 7 runs, 10 loops each)>),\n",
       " (75000,\n",
       "  <TimeitResult : 52.4 ms ± 2.64 ms per loop (mean ± std. dev. of 7 runs, 10 loops each)>),\n",
       " (80000,\n",
       "  <TimeitResult : 57.5 ms ± 2.07 ms per loop (mean ± std. dev. of 7 runs, 10 loops each)>),\n",
       " (85000,\n",
       "  <TimeitResult : 59.9 ms ± 4.37 ms per loop (mean ± std. dev. of 7 runs, 10 loops each)>),\n",
       " (90000,\n",
       "  <TimeitResult : 63.8 ms ± 4.42 ms per loop (mean ± std. dev. of 7 runs, 10 loops each)>),\n",
       " (95000,\n",
       "  <TimeitResult : 66.9 ms ± 4.19 ms per loop (mean ± std. dev. of 7 runs, 10 loops each)>),\n",
       " (100000,\n",
       "  <TimeitResult : 73.9 ms ± 3.04 ms per loop (mean ± std. dev. of 7 runs, 10 loops each)>)]"
      ]
     },
     "execution_count": 15,
     "metadata": {},
     "output_type": "execute_result"
    }
   ],
   "source": [
    "f"
   ]
  }
 ],
 "metadata": {
  "kernelspec": {
   "display_name": "Python 3",
   "language": "python",
   "name": "python3"
  },
  "language_info": {
   "codemirror_mode": {
    "name": "ipython",
    "version": 3
   },
   "file_extension": ".py",
   "mimetype": "text/x-python",
   "name": "python",
   "nbconvert_exporter": "python",
   "pygments_lexer": "ipython3",
   "version": "3.6.5"
  }
 },
 "nbformat": 4,
 "nbformat_minor": 2
}

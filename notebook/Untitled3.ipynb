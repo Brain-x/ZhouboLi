{
 "cells": [
  {
   "cell_type": "markdown",
   "metadata": {},
   "source": [
    "# 使用MCMC中的Metropolis-Hasting方法进行随机抽样"
   ]
  },
  {
   "cell_type": "markdown",
   "metadata": {},
   "source": [
    "## 一.马尔科夫链的一般结构\n",
    "### 马尔科夫链是一条状态链，可表示为$\\{\\pi(1),\\pi(2)\\cdots \\pi(i),\\pi(j)\\cdots\\}$，结合概率论的内容，可将某概率密度函数表示为如下形式：$$\\lim_{n\\to+\\infty}\\{\\cdots ，\\pi(-\\frac{2}{n}),\\pi(-\\frac{1}{n}),\\pi(0),\\pi(\\frac{1}{n}),\\pi(\\frac{2}{n}),\\cdots\\}$$且满足$$\\int_{-\\infty}^{+\\infty} \\pi(x)dx=1$$\n",
    "### 状态链的转移通过转移概率矩阵$P=\\{p_{ij}\\}$实现，$P$的结构如下:\n",
    "### $$\n",
    "        \\left (\\begin{matrix}\n",
    "        p_{11} & p_{12} & \\cdots &p_{1j}& \\cdots  \\\\\n",
    "        p_{21}  & p_{22} & \\cdots &p_{2j}& \\cdots \\\\\n",
    "        \\vdots & \\vdots & \\ddots & \\vdots & \\cdots \\\\\n",
    "        p_{i1} & p_{i2} & \\cdots & p_{ij} & \\cdots \\\\\n",
    "        \\vdots & \\vdots & \\vdots & \\vdots & \\ddots \\\\\n",
    "        \\end{matrix} \\right)\n",
    "  $$\n",
    "### 其中每行元素满足和式$$\\sum_{j=1}^{\\infty} p_{ij}=1$$\n",
    "### 转移概率矩阵若不为n阶幂等矩阵，则称具有该转移概率矩阵的马尔科夫过程具有遍历性，否则具有循环性，具有遍历性的马尔科夫过程，满足性质$$\\lim_{n\\to+\\infty}p_{ij}^n=\\bar\\pi(j)$$可知$P^n$中元素只与列有关，格式如下：\n",
    "### $$\n",
    "        \\left (\\begin{matrix}\n",
    "        \\bar\\pi(1) & \\bar\\pi(2) & \\cdots &\\bar\\pi(j)& \\cdots  \\\\\n",
    "        \\bar\\pi(1)  & \\bar\\pi(2) & \\cdots &\\bar\\pi(j)& \\cdots \\\\\n",
    "        \\vdots & \\vdots & \\ddots & \\vdots & \\cdots \\\\\n",
    "       \\bar\\pi(1) & \\bar\\pi(2) & \\cdots & \\bar\\pi(j) & \\cdots \\\\\n",
    "        \\vdots & \\vdots & \\vdots & \\vdots & \\ddots \\\\\n",
    "        \\end{matrix} \\right)$$"
   ]
  },
  {
   "cell_type": "markdown",
   "metadata": {},
   "source": [
    "## 二.稳定状态链的基本概念\n",
    "### 由马尔科夫过程具有极限状态，可知马尔科夫链的稳态条件满足：\n",
    "### $$ \n",
    "         \\left (\\begin{matrix}\n",
    "        \\bar\\pi(1)\\\\ \\bar\\pi(2) \\\\ \\vdots \\\\ \\bar\\pi(j)\\\\ \\vdots  \\\\\n",
    "        \\end{matrix} \\right)^{-1}\n",
    "        \\left (\\begin{matrix}\n",
    "        p_{11} & p_{12} & \\cdots &p_{1j}& \\cdots  \\\\\n",
    "        p_{21}  & p_{22} & \\cdots &p_{2j}& \\cdots \\\\\n",
    "        \\vdots & \\vdots & \\ddots & \\vdots & \\cdots \\\\\n",
    "        p_{i1} & p_{i2} & \\cdots & p_{ij} & \\cdots \\\\\n",
    "        \\vdots & \\vdots & \\vdots & \\vdots & \\ddots \\\\\n",
    "        \\end{matrix} \\right)=\n",
    "         \\left (\\begin{matrix}\n",
    "        \\bar\\pi(1)\\\\ \\bar\\pi(2) \\\\ \\vdots \\\\ \\bar\\pi(j)\\\\ \\vdots  \\\\\n",
    "        \\end{matrix} \\right)^{-1}\n",
    "        $$\n",
    "### 即满足：\n",
    "### $$\\bar\\pi(j)=\\sum_{i=1}^{\\infty} \\bar\\pi(i)p_{ij}$$\n",
    "### 补充以下条件，联立知：\n",
    "### $$\n",
    "\\begin{cases}\n",
    "\\bar\\pi(j)=\\sum_{i=1}^{\\infty} \\bar\\pi(i)p_{ij}\\\\\n",
    "\\sum_{i=1}^{\\infty} p_{ji}=1\n",
    "\\end{cases}\n",
    "\\Leftrightarrow\n",
    "\\sum_{i=1}^{\\infty} \\bar\\pi(j)p_{ji}=\\sum_{i=1}^{\\infty} \\bar\\pi(i)p_{ij}$$\n",
    "### 马尔可夫链的细致平稳(detailed balance)是状态链达到稳定状态的充分不必要条件：\n",
    "### $$\\bar\\pi(i)p_{ij}=\\bar\\pi(j)p_{ji}\n",
    "\\Rightarrow\n",
    "\\sum_{i=1}^{\\infty} \\bar\\pi(j)p_{ji}=\\sum_{i=1}^{\\infty} \\bar\\pi(i)p_{ij}\n",
    "$$\n",
    "### 达到细致平稳时，马氏链由状态$\\bar\\pi(i)$转移到状态$\\bar\\pi(j)$的概率为$p_{ij}$，反之亦然，链的稳态条件即：两状态转移概率相等。"
   ]
  }
 ],
 "metadata": {
  "kernelspec": {
   "display_name": "Python 3",
   "language": "python",
   "name": "python3"
  },
  "language_info": {
   "codemirror_mode": {
    "name": "ipython",
    "version": 3
   },
   "file_extension": ".py",
   "mimetype": "text/x-python",
   "name": "python",
   "nbconvert_exporter": "python",
   "pygments_lexer": "ipython3",
   "version": "3.6.5"
  }
 },
 "nbformat": 4,
 "nbformat_minor": 2
}
